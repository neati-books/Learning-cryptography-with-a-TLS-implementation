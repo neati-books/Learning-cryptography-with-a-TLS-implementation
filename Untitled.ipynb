{
 "cells": [
  {
   "cell_type": "code",
   "execution_count": 14,
   "metadata": {},
   "outputs": [],
   "source": [
    "from tls_crypt import *"
   ]
  },
  {
   "cell_type": "code",
   "execution_count": 15,
   "metadata": {},
   "outputs": [],
   "source": [
    "aes = AES()"
   ]
  },
  {
   "cell_type": "code",
   "execution_count": 18,
   "metadata": {},
   "outputs": [],
   "source": [
    "def str2list(s) :\n",
    "    r = []\n",
    "    for c in s: r.append(ord(c))\n",
    "    return r\n",
    "\n",
    "def list2str(l) :\n",
    "    r = ''\n",
    "    for c in l: r += chr(c)\n",
    "    return r\n",
    "\n",
    "def hex2list(s):\n",
    "    assert len(s) % 16 == 0\n",
    "    l = []\n",
    "    str = ''\n",
    "    for c in s:\n",
    "        str += c\n",
    "        if len(str) == 2:\n",
    "            l.append(int(str, 16))\n",
    "            str = ''\n",
    "    return l"
   ]
  },
  {
   "cell_type": "code",
   "execution_count": 19,
   "metadata": {},
   "outputs": [
    {
     "name": "stdout",
     "output_type": "stream",
     "text": [
      "([93, 66, 173, 31, 1, 161, 29, 215, 37, 51, 234, 157, 222, 85, 175, 189, 152, 225, 237, 39, 95, 229, 30, 179, 113, 246, 207, 89, 57, 83, 137, 212, 116, 201, 145, 197, 145, 53, 163, 142, 95, 156, 142, 36, 91, 42, 87, 223], [152, 91, 109, 166, 99, 242, 16, 53, 3, 76, 233, 136, 141, 108, 54, 180])\n"
     ]
    },
    {
     "ename": "TypeError",
     "evalue": "decrypt(): incompatible function arguments. The following argument types are supported:\n    1. (self: tls_crypt.AES, arg0: List[int]) -> Tuple[List[int], List[int[16]]]\n\nInvoked with: <tls_crypt.AES object at 0x7fe6ec13a340>, ([93, 66, 173, 31, 1, 161, 29, 215, 37, 51, 234, 157, 222, 85, 175, 189, 152, 225, 237, 39, 95, 229, 30, 179, 113, 246, 207, 89, 57, 83, 137, 212, 116, 201, 145, 197, 145, 53, 163, 142, 95, 156, 142, 36, 91, 42, 87, 223], [152, 91, 109, 166, 99, 242, 16, 53, 3, 76, 233, 136, 141, 108, 54, 180])",
     "output_type": "error",
     "traceback": [
      "\u001b[0;31m---------------------------------------------------------------------------\u001b[0m",
      "\u001b[0;31mTypeError\u001b[0m                                 Traceback (most recent call last)",
      "\u001b[0;32m<ipython-input-19-04572fe09f17>\u001b[0m in \u001b[0;36m<module>\u001b[0;34m()\u001b[0m\n\u001b[1;32m      8\u001b[0m \u001b[0menc\u001b[0m \u001b[0;34m=\u001b[0m \u001b[0maes\u001b[0m\u001b[0;34m.\u001b[0m\u001b[0mencrypt\u001b[0m\u001b[0;34m(\u001b[0m\u001b[0mhex2list\u001b[0m\u001b[0;34m(\u001b[0m\u001b[0mmsg\u001b[0m\u001b[0;34m)\u001b[0m\u001b[0;34m)\u001b[0m\u001b[0;34m\u001b[0m\u001b[0;34m\u001b[0m\u001b[0m\n\u001b[1;32m      9\u001b[0m \u001b[0mprint\u001b[0m\u001b[0;34m(\u001b[0m\u001b[0menc\u001b[0m\u001b[0;34m)\u001b[0m\u001b[0;34m\u001b[0m\u001b[0;34m\u001b[0m\u001b[0m\n\u001b[0;32m---> 10\u001b[0;31m \u001b[0mdec\u001b[0m \u001b[0;34m=\u001b[0m \u001b[0maes\u001b[0m\u001b[0;34m.\u001b[0m\u001b[0mdecrypt\u001b[0m\u001b[0;34m(\u001b[0m\u001b[0menc\u001b[0m\u001b[0;34m)\u001b[0m\u001b[0;34m\u001b[0m\u001b[0;34m\u001b[0m\u001b[0m\n\u001b[0m\u001b[1;32m     11\u001b[0m \u001b[0mprint\u001b[0m\u001b[0;34m(\u001b[0m\u001b[0mdec\u001b[0m\u001b[0;34m)\u001b[0m\u001b[0;34m\u001b[0m\u001b[0;34m\u001b[0m\u001b[0m\n",
      "\u001b[0;31mTypeError\u001b[0m: decrypt(): incompatible function arguments. The following argument types are supported:\n    1. (self: tls_crypt.AES, arg0: List[int]) -> Tuple[List[int], List[int[16]]]\n\nInvoked with: <tls_crypt.AES object at 0x7fe6ec13a340>, ([93, 66, 173, 31, 1, 161, 29, 215, 37, 51, 234, 157, 222, 85, 175, 189, 152, 225, 237, 39, 95, 229, 30, 179, 113, 246, 207, 89, 57, 83, 137, 212, 116, 201, 145, 197, 145, 53, 163, 142, 95, 156, 142, 36, 91, 42, 87, 223], [152, 91, 109, 166, 99, 242, 16, 53, 3, 76, 233, 136, 141, 108, 54, 180])"
     ]
    }
   ],
   "source": [
    "client_key = 0x231a650ecfc578bea4b0467adaab33c2\n",
    "server_key = 0x45ec5fe99527a6f2c9c3889fcd2e65c1\n",
    "msg = '1400000c48037b71499792961515c436f4c6330f8748593625435272724d39632cdf4c060b0b0b0b0b0b0b0b0b0b0b0b'\n",
    "iv = 0x4c63014c671a8bae25b22def0f57ce79\n",
    "\n",
    "aes.key(server_key)\n",
    "aes.iv(iv)\n",
    "enc = aes.encrypt(hex2list(msg))\n",
    "print(enc)\n",
    "dec = aes.decrypt(enc)\n",
    "print(dec)"
   ]
  },
  {
   "cell_type": "code",
   "execution_count": null,
   "metadata": {},
   "outputs": [],
   "source": []
  }
 ],
 "metadata": {
  "kernelspec": {
   "display_name": "Python 3",
   "language": "python",
   "name": "python3"
  },
  "language_info": {
   "codemirror_mode": {
    "name": "ipython",
    "version": 3
   },
   "file_extension": ".py",
   "mimetype": "text/x-python",
   "name": "python",
   "nbconvert_exporter": "python",
   "pygments_lexer": "ipython3",
   "version": "3.6.9"
  }
 },
 "nbformat": 4,
 "nbformat_minor": 2
}
