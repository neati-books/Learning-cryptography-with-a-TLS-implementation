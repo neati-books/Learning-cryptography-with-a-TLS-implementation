{
 "cells": [
  {
   "cell_type": "code",
   "execution_count": 1,
   "metadata": {},
   "outputs": [],
   "source": [
    "import subprocess\n",
    "from tls_crypt import *"
   ]
  },
  {
   "cell_type": "code",
   "execution_count": 2,
   "metadata": {},
   "outputs": [],
   "source": [
    "def str2list(s) :\n",
    "    r = []\n",
    "    for c in s: r.append(ord(c))\n",
    "    return r\n",
    "\n",
    "def list2str(l) :\n",
    "    r = ''\n",
    "    for c in l: r += chr(c)\n",
    "    return r\n",
    "\n",
    "def hex2list(s):\n",
    "    assert len(s) % 16 == 0\n",
    "    l = []\n",
    "    str = ''\n",
    "    for c in s:\n",
    "        str += c\n",
    "        if len(str) == 2:\n",
    "            l.append(int(str, 16))\n",
    "            str = ''\n",
    "    return l\n",
    "\n",
    "def hexstr2list(s):\n",
    "    li = s.split(' ')\n",
    "    return [int(i, 16) for i in li]\n",
    "\n",
    "def hexprint(li):\n",
    "    print('[', end='')\n",
    "    for i in li : print('{:02x}'.format(i), end=',')\n",
    "    print('\\b]')\n",
    "    \n",
    "def list2int(li):\n",
    "    k = 0;\n",
    "    for i in li:\n",
    "        k *= 0x100;\n",
    "        k += i\n",
    "    return k\n",
    "\n",
    "def int2list(k):\n",
    "    r = []\n",
    "    while k > 0:\n",
    "        r.insert(0, k%0x100)\n",
    "        k = k // 0x100\n",
    "    return r"
   ]
  },
  {
   "cell_type": "code",
   "execution_count": 3,
   "metadata": {},
   "outputs": [],
   "source": [
    "aes = AES()\n",
    "hkdf = HKDF()\n",
    "x25519 = X25519()"
   ]
  },
  {
   "cell_type": "code",
   "execution_count": 65,
   "metadata": {},
   "outputs": [],
   "source": [
    "res = subprocess.check_output('./test.sh 2> /dev/null', shell = True).splitlines()"
   ]
  },
  {
   "cell_type": "code",
   "execution_count": 66,
   "metadata": {},
   "outputs": [
    {
     "data": {
      "text/plain": [
       "[b'F8E1A78594AE7F4EFAD6764B65244FD8EE58F87A536184CC1EB862D93C27C977',\n",
       " b'bc0f04232a491458-4b9c0bb24538fb8f',\n",
       " b'17058799dfddda71-8905fed9f6d56617',\n",
       " b'595db02b0f94bb1b-a6b1a171bd98b854',\n",
       " b'6268ec6226a48fc1-4b533fbb4c2c2c1e',\n",
       " b'a22043c7d9a8496e-091692707005f255',\n",
       " b'057264d87c6d4cb1-b281afbf744a7916',\n",
       " b'6330cc8b88deca58-151a2471889a46f7',\n",
       " b'2bec3970b663ba98-5ebd5a4ffe9d2116',\n",
       " b'fb2964aee83a01a9-24474ed143757afb',\n",
       " b'767b71e3afd0330d-c8db5fe85f29458f',\n",
       " b'a7b906bfc9fd4a6c-3024bc15232a68eb',\n",
       " b'6568BCEBDEB051245D8E5462EB8F2B64D40F59FF0E9135D8BD5BA593DEEDE4C2',\n",
       " b'bc0f04232a491458-4b9c0bb24538fb8f',\n",
       " b'7565b06b262f7d1a-4e7168cb74a70800',\n",
       " b'f71494657d5569ff-b60ae8ee0a359da9',\n",
       " b'429a0b3dea7a9338-91562ec0d82c4585',\n",
       " b'7b0495b6a3db474f-b47aad381f64dc18',\n",
       " b'0b6e0a63b9c9e9af-025f0faa99fa8916',\n",
       " b'1b9a1e74d644fc29-f78df42c243ff066',\n",
       " b'0591fade8a4f5471-f6ecacb7a2e12c69',\n",
       " b'f45155e84f435290-ddfdd675c9ea676c',\n",
       " b'858c0c6916388aa6-f96c8a2b6679d201',\n",
       " b'ab2118eba4ad60aa-1a95f9edbd1d8967',\n",
       " b'd0b17d16de87f107-e83ca6ca1b1e74ea']"
      ]
     },
     "execution_count": 66,
     "metadata": {},
     "output_type": "execute_result"
    }
   ],
   "source": [
    "res"
   ]
  },
  {
   "cell_type": "code",
   "execution_count": 58,
   "metadata": {},
   "outputs": [
    {
     "name": "stdout",
     "output_type": "stream",
     "text": [
      "0xe4ffb68ac05f8d96c99da26698346c6be16482badddafe051a66b4f18d668f0b\n"
     ]
    },
    {
     "ename": "ValueError",
     "evalue": "invalid literal for int() with base 16: '32-a'",
     "output_type": "error",
     "traceback": [
      "\u001b[0;31m---------------------------------------------------------------------------\u001b[0m",
      "\u001b[0;31mValueError\u001b[0m                                Traceback (most recent call last)",
      "\u001b[0;32m<ipython-input-58-071dcff79b51>\u001b[0m in \u001b[0;36m<module>\u001b[0;34m()\u001b[0m\n\u001b[1;32m      9\u001b[0m \u001b[0mresumption_psk\u001b[0m \u001b[0;34m=\u001b[0m \u001b[0mint\u001b[0m\u001b[0;34m(\u001b[0m\u001b[0mres\u001b[0m\u001b[0;34m[\u001b[0m\u001b[0;36m0\u001b[0m\u001b[0;34m]\u001b[0m\u001b[0;34m,\u001b[0m \u001b[0;36m16\u001b[0m\u001b[0;34m)\u001b[0m\u001b[0;34m\u001b[0m\u001b[0;34m\u001b[0m\u001b[0m\n\u001b[1;32m     10\u001b[0m \u001b[0mticket_id\u001b[0m \u001b[0;34m=\u001b[0m \u001b[0mres\u001b[0m\u001b[0;34m[\u001b[0m\u001b[0;36m1\u001b[0m\u001b[0;34m]\u001b[0m\u001b[0;34m.\u001b[0m\u001b[0mdecode\u001b[0m\u001b[0;34m(\u001b[0m\u001b[0;34m)\u001b[0m\u001b[0;34m[\u001b[0m\u001b[0;34m:\u001b[0m\u001b[0;34m-\u001b[0m\u001b[0;36m1\u001b[0m\u001b[0;34m]\u001b[0m\u001b[0;34m\u001b[0m\u001b[0;34m\u001b[0m\u001b[0m\n\u001b[0;32m---> 11\u001b[0;31m \u001b[0mclient_hello\u001b[0m \u001b[0;34m=\u001b[0m \u001b[0mhexstr2list\u001b[0m\u001b[0;34m(\u001b[0m\u001b[0ma\u001b[0m\u001b[0;34m)\u001b[0m \u001b[0;34m+\u001b[0m \u001b[0mint2list\u001b[0m\u001b[0;34m(\u001b[0m\u001b[0mpub\u001b[0m\u001b[0;34m)\u001b[0m \u001b[0;34m+\u001b[0m \u001b[0mhexstr2list\u001b[0m\u001b[0;34m(\u001b[0m\u001b[0mb\u001b[0m \u001b[0;34m+\u001b[0m\u001b[0;34m' '\u001b[0m\u001b[0;34m+\u001b[0m \u001b[0mticket_id\u001b[0m \u001b[0;34m+\u001b[0m\u001b[0;34m' '\u001b[0m\u001b[0;34m+\u001b[0m \u001b[0mc\u001b[0m\u001b[0;34m)\u001b[0m\u001b[0;34m\u001b[0m\u001b[0;34m\u001b[0m\u001b[0m\n\u001b[0m\u001b[1;32m     12\u001b[0m \u001b[0mhkdf\u001b[0m\u001b[0;34m.\u001b[0m\u001b[0mzero_salt\u001b[0m\u001b[0;34m(\u001b[0m\u001b[0;34m)\u001b[0m\u001b[0;34m\u001b[0m\u001b[0;34m\u001b[0m\u001b[0m\n\u001b[1;32m     13\u001b[0m \u001b[0mearly\u001b[0m \u001b[0;34m=\u001b[0m \u001b[0mhkdf\u001b[0m\u001b[0;34m.\u001b[0m\u001b[0mextract\u001b[0m\u001b[0;34m(\u001b[0m\u001b[0mint2list\u001b[0m\u001b[0;34m(\u001b[0m\u001b[0mresumption_psk\u001b[0m\u001b[0;34m)\u001b[0m\u001b[0;34m)\u001b[0m\u001b[0;34m\u001b[0m\u001b[0;34m\u001b[0m\u001b[0m\n",
      "\u001b[0;32m<ipython-input-2-defbedda58ff>\u001b[0m in \u001b[0;36mhexstr2list\u001b[0;34m(s)\u001b[0m\n\u001b[1;32m     22\u001b[0m \u001b[0;32mdef\u001b[0m \u001b[0mhexstr2list\u001b[0m\u001b[0;34m(\u001b[0m\u001b[0ms\u001b[0m\u001b[0;34m)\u001b[0m\u001b[0;34m:\u001b[0m\u001b[0;34m\u001b[0m\u001b[0;34m\u001b[0m\u001b[0m\n\u001b[1;32m     23\u001b[0m     \u001b[0mli\u001b[0m \u001b[0;34m=\u001b[0m \u001b[0ms\u001b[0m\u001b[0;34m.\u001b[0m\u001b[0msplit\u001b[0m\u001b[0;34m(\u001b[0m\u001b[0;34m' '\u001b[0m\u001b[0;34m)\u001b[0m\u001b[0;34m\u001b[0m\u001b[0;34m\u001b[0m\u001b[0m\n\u001b[0;32m---> 24\u001b[0;31m     \u001b[0;32mreturn\u001b[0m \u001b[0;34m[\u001b[0m\u001b[0mint\u001b[0m\u001b[0;34m(\u001b[0m\u001b[0mi\u001b[0m\u001b[0;34m,\u001b[0m \u001b[0;36m16\u001b[0m\u001b[0;34m)\u001b[0m \u001b[0;32mfor\u001b[0m \u001b[0mi\u001b[0m \u001b[0;32min\u001b[0m \u001b[0mli\u001b[0m\u001b[0;34m]\u001b[0m\u001b[0;34m\u001b[0m\u001b[0;34m\u001b[0m\u001b[0m\n\u001b[0m\u001b[1;32m     25\u001b[0m \u001b[0;34m\u001b[0m\u001b[0m\n\u001b[1;32m     26\u001b[0m \u001b[0;32mdef\u001b[0m \u001b[0mhexprint\u001b[0m\u001b[0;34m(\u001b[0m\u001b[0mli\u001b[0m\u001b[0;34m)\u001b[0m\u001b[0;34m:\u001b[0m\u001b[0;34m\u001b[0m\u001b[0;34m\u001b[0m\u001b[0m\n",
      "\u001b[0;32m<ipython-input-2-defbedda58ff>\u001b[0m in \u001b[0;36m<listcomp>\u001b[0;34m(.0)\u001b[0m\n\u001b[1;32m     22\u001b[0m \u001b[0;32mdef\u001b[0m \u001b[0mhexstr2list\u001b[0m\u001b[0;34m(\u001b[0m\u001b[0ms\u001b[0m\u001b[0;34m)\u001b[0m\u001b[0;34m:\u001b[0m\u001b[0;34m\u001b[0m\u001b[0;34m\u001b[0m\u001b[0m\n\u001b[1;32m     23\u001b[0m     \u001b[0mli\u001b[0m \u001b[0;34m=\u001b[0m \u001b[0ms\u001b[0m\u001b[0;34m.\u001b[0m\u001b[0msplit\u001b[0m\u001b[0;34m(\u001b[0m\u001b[0;34m' '\u001b[0m\u001b[0;34m)\u001b[0m\u001b[0;34m\u001b[0m\u001b[0;34m\u001b[0m\u001b[0m\n\u001b[0;32m---> 24\u001b[0;31m     \u001b[0;32mreturn\u001b[0m \u001b[0;34m[\u001b[0m\u001b[0mint\u001b[0m\u001b[0;34m(\u001b[0m\u001b[0mi\u001b[0m\u001b[0;34m,\u001b[0m \u001b[0;36m16\u001b[0m\u001b[0;34m)\u001b[0m \u001b[0;32mfor\u001b[0m \u001b[0mi\u001b[0m \u001b[0;32min\u001b[0m \u001b[0mli\u001b[0m\u001b[0;34m]\u001b[0m\u001b[0;34m\u001b[0m\u001b[0;34m\u001b[0m\u001b[0m\n\u001b[0m\u001b[1;32m     25\u001b[0m \u001b[0;34m\u001b[0m\u001b[0m\n\u001b[1;32m     26\u001b[0m \u001b[0;32mdef\u001b[0m \u001b[0mhexprint\u001b[0m\u001b[0;34m(\u001b[0m\u001b[0mli\u001b[0m\u001b[0;34m)\u001b[0m\u001b[0;34m:\u001b[0m\u001b[0;34m\u001b[0m\u001b[0;34m\u001b[0m\u001b[0m\n",
      "\u001b[0;31mValueError\u001b[0m: invalid literal for int() with base 16: '32-a'"
     ]
    }
   ],
   "source": [
    "a = '16 03 01 02 00 01 00 01 fc 03 03 b6 27 34 3b 77 bf 1f 66 54 f3 d4 68 5a 08 b2 20 75 91 7d 03 e5 1b dc b8 67 06 dc c5 70 be 7e ea 20 d6 1c ac 4b fe ec 6e 41 ea 45 b5 e6 da 53 a2 82 86 f6 0c d7 9f da ad 88 9b ef 09 fd f9 9b 2d b4 00 22 4a 4a 13 01 13 02 13 03 c0 2b c0 2f c0 2c c0 30 cc a9 cc a8 c0 13 c0 14 00 9c 00 9d 00 2f 00 35 00 0a 01 00 01 91 6a 6a 00 00 00 00 00 0e 00 0c 00 00 09 6c 6f 63 61 6c 68 6f 73 74 00 17 00 00 ff 01 00 01 00 00 0a 00 0a 00 08 7a 7a 00 1d 00 17 00 18 00 0b 00 02 01 00 00 23 00 00 00 10 00 0e 00 0c 02 68 32 08 68 74 74 70 2f 31 2e 31 00 05 00 05 01 00 00 00 00 00 0d 00 14 00 12 04 03 08 04 04 01 05 03 08 05 05 01 08 06 06 01 02 01 00 12 00 00 00 33 00 2b 00 29 7a 7a 00 01 00 00 1d 00 20'\n",
    "b = '00 2d 00 02 01 01 00 2b 00 0b 0a 6a 6a 03 04 03 03 03 02 03 01 00 1b 00 03 02 00 02 aa aa 00 01 00 00 15 00 98 00 00 00 00 00 00 00 00 00 00 00 00 00 00 00 00 00 00 00 00 00 00 00 00 00 00 00 00 00 00 00 00 00 00 00 00 00 00 00 00 00 00 00 00 00 00 00 00 00 00 00 00 00 00 00 00 00 00 00 00 00 00 00 00 00 00 00 00 00 00 00 00 00 00 00 00 00 00 00 00 00 00 00 00 00 00 00 00 00 00 00 00 00 00 00 00 00 00 00 00 00 00 00 00 00 00 00 00 00 00 00 00 00 00 00 00 00 00 00 00 00 00 00 00 00 00 00 00 00 00 00 00 00 00 00 00 00 00 00 00 00 00 00 00 00 00 00 00 00 00 00 00 00 29 00 33 00 0e 00 08'\n",
    "c = 'f4 cd f0 05 00 21 20 6e e7 a9 a7 f6 50 90 f9 7e 89 88 a4 71 4b d0 d0 5f d7 a8 cc 96 e4 30 61 81 ac e8 70 70 2d 1a a7'\n",
    "\n",
    "pri = 0xbff91188283846dd6a2134ef7180ca2b0b14fb10dce707b5098c0dddc813b2df\n",
    "pub = 0xe4ffb68ac05f8d96c99da26698346c6be16482badddafe051a66b4f18d668f0b\n",
    "print ('{0:#x}'.format(x25519.mul_g(pri)))\n",
    "\n",
    "resumption_psk = int(res[0], 16)\n",
    "ticket_id = res[1].decode()[:-1]\n",
    "client_hello = hexstr2list(a) + int2list(pub) + hexstr2list(b +' '+ ticket_id +' '+ c)\n",
    "hkdf.zero_salt()\n",
    "early = hkdf.extract(int2list(resumption_psk))\n",
    "hexprint(early)"
   ]
  },
  {
   "cell_type": "code",
   "execution_count": 52,
   "metadata": {},
   "outputs": [],
   "source": [
    "client = TLS_client('localhost', 4433)\n",
    "client.send(client_hello)\n",
    "\n",
    "r1 = client.recv()\n",
    "r2 = client.recv()\n",
    "r3 = client.recv()"
   ]
  },
  {
   "cell_type": "code",
   "execution_count": 53,
   "metadata": {},
   "outputs": [
    {
     "name": "stdout",
     "output_type": "stream",
     "text": [
      "27ccd7f3aa12b9d87d2bd1d589d930ea223eb3302887451ba0e8e8d3c791996b\n"
     ]
    }
   ],
   "source": [
    "server_pub = r1[-38:-6]\n",
    "ecdhe = x25519.mul(pri, list2int(server_pub))\n",
    "print('{:x}'.format(ecdhe))"
   ]
  },
  {
   "cell_type": "code",
   "execution_count": 54,
   "metadata": {},
   "outputs": [
    {
     "name": "stdout",
     "output_type": "stream",
     "text": [
      "[ec,3f,15,e1,fa,0e,17,bd,b0,62,30,35,16,37,85,13,68,87,34,7b,ec,ed,b8,d2,9f,b8,ea,78,b0,69,60,1d,\b]\n",
      "[16,03,03,00,80,02,00,00,7c,03,03,a1,2b,19,d0,9c,66,98,52,cf,64,10,53,7c,85,0b,86,05,9e,71,7f,c0,39,95,55,60,35,63,08,f3,48,6b,a5,20,d6,1c,ac,4b,fe,ec,6e,41,ea,45,b5,e6,da,53,a2,82,86,f6,0c,d7,9f,da,ad,88,9b,ef,09,fd,f9,9b,2d,b4,13,01,00,00,34,00,2b,00,02,03,04,00,33,00,24,00,1d,00,20,49,2e,2b,96,f1,fa,04,ec,e3,fe,2b,a4,50,f5,7f,34,9d,b7,42,19,31,fb,6e,e4,7e,da,80,45,76,a7,ee,3b,00,29,00,02,00,00,\b]\n"
     ]
    }
   ],
   "source": [
    "hexprint(early)\n",
    "hexprint(r1)"
   ]
  },
  {
   "cell_type": "code",
   "execution_count": 55,
   "metadata": {},
   "outputs": [
    {
     "name": "stdout",
     "output_type": "stream",
     "text": [
      "[1f,d6,80,9c,34,c8,44,dd,13,4c,58,84,71,54,33,80,ac,db,26,3b,9b,72,67,4a,31,c1,16,9b,a0,65,13,40,\b]\n",
      "[15,9b,1a,41,a8,63,29,2f,8b,ca,08,35,89,cf,af,8f,5f,fe,8b,c4,5a,67,eb,84,ac,76,90,cf,93,06,72,f9,\b]\n",
      "[08,00,00,0a,00,08,00,0a,00,04,00,1d,00,17,14,00,00,20,c8,b5,81,a4,49,c8,e6,66,7e,7e,c7,d0,ea,59,d1,3b,e6,0d,6c,e9,82,9c,29,9d,60,c7,08,b1,f5,49,73,7a,16,\b]\n",
      "[08,dc,fe,bc,25,a4,77,be,c1,27,fc,d2,0d,2b,78,40,\b]\n",
      "[08,dc,fe,bc,25,a4,77,be,c1,27,fc,d2,0d,2b,78,40,\b]\n"
     ]
    }
   ],
   "source": [
    "hkdf.salt(early)\n",
    "tmp = hkdf.derive_secret('derived', [])\n",
    "hkdf.salt(tmp)\n",
    "handshake_secret = hkdf.extract(int2list(ecdhe))\n",
    "hexprint(handshake_secret)#ok until\n",
    "\n",
    "hkdf.salt(handshake_secret)\n",
    "s_hs_traffic = hkdf.derive_secret('s hs traffic', client_hello[5:] + r1[5:])\n",
    "hexprint(s_hs_traffic)\n",
    "\n",
    "hkdf.salt(s_hs_traffic)\n",
    "key = hkdf.expand_label('key', '', 16)\n",
    "iv = hkdf.expand_label('iv', '', 12)\n",
    "aes.key(list2int(key))\n",
    "aes.iv(list2int(iv))\n",
    "aes.aad(r3[0:5])\n",
    "\n",
    "r = aes.decrypt(r3[5:-16])\n",
    "hexprint(r[0])\n",
    "hexprint(r[1])\n",
    "hexprint(r3[-16:])"
   ]
  },
  {
   "cell_type": "code",
   "execution_count": 56,
   "metadata": {},
   "outputs": [
    {
     "name": "stdout",
     "output_type": "stream",
     "text": [
      "[51,ea,06,29,15,93,db,d8,03,18,e5,d3,f3,f1,95,90,\b]\n",
      "[38,69,80,71,d5,d4,c1,da,c4,ca,6d,d1,\b]\n",
      "[1f,d6,80,9c,34,c8,44,dd,13,4c,58,84,71,54,33,80,ac,db,26,3b,9b,72,67,4a,31,c1,16,9b,a0,65,13,40,\b]\n",
      "[16,03,01,02,00,01,00,01,fc,03,03,b6,27,34,3b,77,bf,1f,66,54,f3,d4,68,5a,08,b2,20,75,91,7d,03,e5,1b,dc,b8,67,06,dc,c5,70,be,7e,ea,20,d6,1c,ac,4b,fe,ec,6e,41,ea,45,b5,e6,da,53,a2,82,86,f6,0c,d7,9f,da,ad,88,9b,ef,09,fd,f9,9b,2d,b4,00,22,4a,4a,13,01,13,02,13,03,c0,2b,c0,2f,c0,2c,c0,30,cc,a9,cc,a8,c0,13,c0,14,00,9c,00,9d,00,2f,00,35,00,0a,01,00,01,91,6a,6a,00,00,00,00,00,0e,00,0c,00,00,09,6c,6f,63,61,6c,68,6f,73,74,00,17,00,00,ff,01,00,01,00,00,0a,00,0a,00,08,7a,7a,00,1d,00,17,00,18,00,0b,00,02,01,00,00,23,00,00,00,10,00,0e,00,0c,02,68,32,08,68,74,74,70,2f,31,2e,31,00,05,00,05,01,00,00,00,00,00,0d,00,14,00,12,04,03,08,04,04,01,05,03,08,05,05,01,08,06,06,01,02,01,00,12,00,00,00,33,00,2b,00,29,7a,7a,00,01,00,00,1d,00,20,e4,ff,b6,8a,c0,5f,8d,96,c9,9d,a2,66,98,34,6c,6b,e1,64,82,ba,dd,da,fe,05,1a,66,b4,f1,8d,66,8f,0b,00,2d,00,02,01,01,00,2b,00,0b,0a,6a,6a,03,04,03,03,03,02,03,01,00,1b,00,03,02,00,02,aa,aa,00,01,00,00,15,00,98,00,00,00,00,00,00,00,00,00,00,00,00,00,00,00,00,00,00,00,00,00,00,00,00,00,00,00,00,00,00,00,00,00,00,00,00,00,00,00,00,00,00,00,00,00,00,00,00,00,00,00,00,00,00,00,00,00,00,00,00,00,00,00,00,00,00,00,00,00,00,00,00,00,00,00,00,00,00,00,00,00,00,00,00,00,00,00,00,00,00,00,00,00,00,00,00,00,00,00,00,00,00,00,00,00,00,00,00,00,00,00,00,00,00,00,00,00,00,00,00,00,00,00,00,00,00,00,00,00,00,00,00,00,00,00,00,00,00,00,00,00,00,00,00,00,00,00,00,00,00,00,00,00,29,00,33,00,0e,00,08,e8,3e,31,9c,a2,15,48,99,f4,cd,f0,05,00,21,20,6e,e7,a9,a7,f6,50,90,f9,7e,89,88,a4,71,4b,d0,d0,5f,d7,a8,cc,96,e4,30,61,81,ac,e8,70,70,2d,1a,a7,16,03,03,00,80,02,00,00,7c,03,03,a1,2b,19,d0,9c,66,98,52,cf,64,10,53,7c,85,0b,86,05,9e,71,7f,c0,39,95,55,60,35,63,08,f3,48,6b,a5,20,d6,1c,ac,4b,fe,ec,6e,41,ea,45,b5,e6,da,53,a2,82,86,f6,0c,d7,9f,da,ad,88,9b,ef,09,fd,f9,9b,2d,b4,13,01,00,00,34,00,2b,00,02,03,04,00,33,00,24,00,1d,00,20,49,2e,2b,96,f1,fa,04,ec,e3,fe,2b,a4,50,f5,7f,34,9d,b7,42,19,31,fb,6e,e4,7e,da,80,45,76,a7,ee,3b,00,29,00,02,00,00,\b]\n"
     ]
    }
   ],
   "source": [
    "hexprint(key)\n",
    "hexprint(iv)\n",
    "hexprint(handshake_secret)\n",
    "hexprint(client_hello + r1)"
   ]
  },
  {
   "cell_type": "code",
   "execution_count": 37,
   "metadata": {},
   "outputs": [
    {
     "name": "stdout",
     "output_type": "stream",
     "text": [
      "[56,f4,80,75,69,e2,e2,7f,f1,55,4c,10,4a,86,0a,7a,a2,de,b7,cc,0e,be,ca,3b,f3,76,e8,8a,62,59,f7,09,\b]\n"
     ]
    }
   ],
   "source": [
    "hexprint(s_hs_traffic)"
   ]
  },
  {
   "cell_type": "code",
   "execution_count": null,
   "metadata": {},
   "outputs": [],
   "source": []
  }
 ],
 "metadata": {
  "kernelspec": {
   "display_name": "Python 3",
   "language": "python",
   "name": "python3"
  },
  "language_info": {
   "codemirror_mode": {
    "name": "ipython",
    "version": 3
   },
   "file_extension": ".py",
   "mimetype": "text/x-python",
   "name": "python",
   "nbconvert_exporter": "python",
   "pygments_lexer": "ipython3",
   "version": "3.6.9"
  }
 },
 "nbformat": 4,
 "nbformat_minor": 2
}
