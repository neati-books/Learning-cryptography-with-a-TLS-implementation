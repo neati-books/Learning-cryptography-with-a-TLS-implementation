{
 "cells": [
  {
   "cell_type": "code",
   "execution_count": 1,
   "metadata": {},
   "outputs": [],
   "source": [
    "import gensim\n",
    "from tls_crypt import Server"
   ]
  },
  {
   "cell_type": "code",
   "execution_count": 21,
   "metadata": {},
   "outputs": [],
   "source": [
    "file = ['/home/zeta/Downloads/word2vec/GoogleNews-slim.bin', '/home/zeta/Downloads/word2vec/ko.bin']\n",
    "kor = gensim.models.Word2Vec.load(file[1])\n",
    "eng = gensim.models.keyedvectors.KeyedVectors.load_word2vec_format(file[0], binary=True)\n",
    "vocab_eng = eng.vocab.keys()\n",
    "vocab_kor = kor.wv.vocab.keys()"
   ]
  },
  {
   "cell_type": "code",
   "execution_count": 40,
   "metadata": {},
   "outputs": [],
   "source": [
    "def f(s):\n",
    "    print(s)\n",
    "    li = s.split()\n",
    "    r =  ''\n",
    "    for i in zip(li[::2], li[1::2]): \n",
    "        if i[0] in vocab_eng and i[1] in vocab_eng:\n",
    "            r += str(eng.similarity(i[0], i[1])) + ' '\n",
    "        elif i[0] in vocab_kor and i[1] in vocab_kor:\n",
    "            r += str(kor.wv.similarity(i[0], i[1])) + ' '\n",
    "        else: r += '0 '\n",
    "    print(r)\n",
    "    return r"
   ]
  },
  {
   "cell_type": "code",
   "execution_count": 71,
   "metadata": {},
   "outputs": [],
   "source": [
    "sv = Server(3003)"
   ]
  },
  {
   "cell_type": "code",
   "execution_count": null,
   "metadata": {},
   "outputs": [],
   "source": [
    "sv.nokeep_start(f)"
   ]
  },
  {
   "cell_type": "code",
   "execution_count": null,
   "metadata": {},
   "outputs": [],
   "source": []
  }
 ],
 "metadata": {
  "kernelspec": {
   "display_name": "Python 3",
   "language": "python",
   "name": "python3"
  },
  "language_info": {
   "codemirror_mode": {
    "name": "ipython",
    "version": 3
   },
   "file_extension": ".py",
   "mimetype": "text/x-python",
   "name": "python",
   "nbconvert_exporter": "python",
   "pygments_lexer": "ipython3",
   "version": "3.6.9"
  }
 },
 "nbformat": 4,
 "nbformat_minor": 2
}
